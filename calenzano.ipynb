{
  "cells": [
    {
      "cell_type": "code",
      "execution_count": 1,
      "metadata": {},
      "outputs": [
        {
          "name": "stdout",
          "output_type": "stream",
          "text": [
            "Files already downloaded and verified\n",
            "Files already downloaded and verified\n",
            "\n",
            "\n",
            "=== resnet18 ===\n",
            "\n",
            "Using Metal Performance Shaders: True\n",
            "Epoch 1, Accuracy: 51.04%\n",
            "Epoch 2, Accuracy: 56.11%\n"
          ]
        }
      ],
      "source": [
        "from torchvision.models import (\n",
        "    alexnet,\n",
        "    mobilenet_v2,\n",
        "    resnet18,\n",
        "    resnet34,\n",
        "    resnet50,\n",
        "    resnet101,\n",
        "    resnet152,\n",
        ")\n",
        "\n",
        "from Benchmark import Benchmark\n",
        "from DataProvider import DataProvider\n",
        "\n",
        "import shutil\n",
        "\n",
        "\n",
        "def main():\n",
        "\n",
        "    shutil.rmtree(\"./dump\", ignore_errors=True)\n",
        "\n",
        "    models_config = [\n",
        "        (resnet18(weights=None), \"resnet18\"),\n",
        "        (resnet34(weights=None), \"resnet34\"),\n",
        "        (resnet50(weights=None), \"resnet50\"),\n",
        "        (resnet101(weights=None), \"resnet101\"),\n",
        "        (resnet152(weights=None), \"resnet152\"),\n",
        "        (alexnet(), \"alexnet\"),\n",
        "        (mobilenet_v2(), \"mobilenet_v2\"),\n",
        "    ]\n",
        "\n",
        "    models = [model for model, _ in models_config]\n",
        "    model_names = [name for _, name in models_config]\n",
        "\n",
        "    transform_provider = DataProvider.get_instance(\"None\")\n",
        "    train_loader, test_loader = transform_provider.get_loaders()\n",
        "\n",
        "    benchmark = Benchmark(models, model_names, train_loader, test_loader, epochs=50)\n",
        "    benchmark.run_benchmark()\n",
        "\n",
        "\n",
        "if __name__ == \"__main__\":\n",
        "    main()"
      ]
    }
  ],
  "metadata": {
    "kernelspec": {
      "display_name": "Python 3",
      "language": "python",
      "name": "python3"
    },
    "language_info": {
      "codemirror_mode": {
        "name": "ipython",
        "version": 3
      },
      "file_extension": ".py",
      "mimetype": "text/x-python",
      "name": "python",
      "nbconvert_exporter": "python",
      "pygments_lexer": "ipython3",
      "version": "3.9.6"
    }
  },
  "nbformat": 4,
  "nbformat_minor": 2
}
