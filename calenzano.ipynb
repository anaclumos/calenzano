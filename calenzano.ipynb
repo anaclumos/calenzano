{
 "cells": [
  {
   "cell_type": "code",
   "execution_count": null,
   "metadata": {},
   "outputs": [],
   "source": [
    "from torchvision.models import (\n",
    "    alexnet,\n",
    "    mobilenet_v2,\n",
    "    resnet18,\n",
    "    resnet34,\n",
    "    resnet50,\n",
    "    resnet101,\n",
    "    resnet152,\n",
    ")\n",
    "\n",
    "from Benchmark import Benchmark\n",
    "from DataProvider import DataProvider\n",
    "\n",
    "import shutil\n",
    "\n",
    "\n",
    "def main():\n",
    "\n",
    "    shutil.rmtree(\"./dump\", ignore_errors=True)\n",
    "\n",
    "    models_config = [\n",
    "        (resnet18(), \"resnet18\"),\n",
    "        (resnet34(), \"resnet34\"),\n",
    "        (resnet50(), \"resnet50\"),\n",
    "        (resnet101(), \"resnet101\"),\n",
    "        (resnet152(), \"resnet152\"),\n",
    "        (alexnet(), \"alexnet\"),\n",
    "        (mobilenet_v2(), \"mobilenet_v2\"),\n",
    "    ]\n",
    "\n",
    "    models = [model for model, _ in models_config]\n",
    "    model_names = [name for _, name in models_config]\n",
    "\n",
    "    transform_provider = DataProvider.get_instance(\"None\")\n",
    "    train_loader, test_loader = transform_provider.get_loaders()\n",
    "\n",
    "    benchmark = Benchmark(models, model_names, train_loader, test_loader, epochs=10)\n",
    "    benchmark.run_benchmark()\n",
    "\n",
    "\n",
    "if __name__ == \"__main__\":\n",
    "    main()"
   ]
  }
 ],
 "metadata": {
  "language_info": {
   "name": "python"
  }
 },
 "nbformat": 4,
 "nbformat_minor": 2
}
